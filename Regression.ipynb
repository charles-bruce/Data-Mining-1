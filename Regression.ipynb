{
 "cells": [
  {
   "cell_type": "code",
   "execution_count": 5,
   "metadata": {},
   "outputs": [],
   "source": [
    "\n",
    "import numpy as np\n",
    "import matplotlib.pyplot as plt\n",
    "import seaborn as sns\n",
    "import pandas as pd"
   ]
  },
  {
   "cell_type": "code",
   "execution_count": 6,
   "metadata": {},
   "outputs": [],
   "source": [
    "train= pd.read_csv('train_clean.csv')\n",
    "test = pd.read_csv('data/test.csv')\n"
   ]
  },
  {
   "cell_type": "code",
   "execution_count": 7,
   "metadata": {},
   "outputs": [
    {
     "data": {
      "text/html": [
       "<div>\n",
       "<style scoped>\n",
       "    .dataframe tbody tr th:only-of-type {\n",
       "        vertical-align: middle;\n",
       "    }\n",
       "\n",
       "    .dataframe tbody tr th {\n",
       "        vertical-align: top;\n",
       "    }\n",
       "\n",
       "    .dataframe thead th {\n",
       "        text-align: right;\n",
       "    }\n",
       "</style>\n",
       "<table border=\"1\" class=\"dataframe\">\n",
       "  <thead>\n",
       "    <tr style=\"text-align: right;\">\n",
       "      <th></th>\n",
       "      <th>name</th>\n",
       "      <th>explicit</th>\n",
       "      <th>popularity</th>\n",
       "      <th>artists</th>\n",
       "      <th>album_name</th>\n",
       "      <th>danceability</th>\n",
       "      <th>energy</th>\n",
       "      <th>key</th>\n",
       "      <th>loudness</th>\n",
       "      <th>mode</th>\n",
       "      <th>speechiness</th>\n",
       "      <th>acousticness</th>\n",
       "      <th>instrumentalness</th>\n",
       "      <th>liveness</th>\n",
       "      <th>valence</th>\n",
       "      <th>tempo</th>\n",
       "      <th>time_signature</th>\n",
       "      <th>n_beats</th>\n",
       "      <th>processing</th>\n",
       "      <th>genre</th>\n",
       "      <th>Explicit</th>\n",
       "    </tr>\n",
       "  </thead>\n",
       "  <tbody>\n",
       "    <tr>\n",
       "      <th>0</th>\n",
       "      <td>Long Road</td>\n",
       "      <td>False</td>\n",
       "      <td>46</td>\n",
       "      <td>Funki Porcini</td>\n",
       "      <td>Hed Phone Sex</td>\n",
       "      <td>0.690</td>\n",
       "      <td>0.513</td>\n",
       "      <td>5</td>\n",
       "      <td>-12.529</td>\n",
       "      <td>1.0</td>\n",
       "      <td>0.0975</td>\n",
       "      <td>0.302000</td>\n",
       "      <td>0.536000</td>\n",
       "      <td>0.281</td>\n",
       "      <td>0.635</td>\n",
       "      <td>142.221</td>\n",
       "      <td>4.0</td>\n",
       "      <td>567</td>\n",
       "      <td>1.279305</td>\n",
       "      <td>j-dance</td>\n",
       "      <td>0</td>\n",
       "    </tr>\n",
       "    <tr>\n",
       "      <th>1</th>\n",
       "      <td>Ondskapens Galakse</td>\n",
       "      <td>False</td>\n",
       "      <td>3</td>\n",
       "      <td>Kvelertak</td>\n",
       "      <td>Nattesferd</td>\n",
       "      <td>0.363</td>\n",
       "      <td>0.854</td>\n",
       "      <td>2</td>\n",
       "      <td>-7.445</td>\n",
       "      <td>1.0</td>\n",
       "      <td>0.0397</td>\n",
       "      <td>0.000089</td>\n",
       "      <td>0.800000</td>\n",
       "      <td>0.262</td>\n",
       "      <td>0.489</td>\n",
       "      <td>116.628</td>\n",
       "      <td>4.0</td>\n",
       "      <td>652</td>\n",
       "      <td>3.700483</td>\n",
       "      <td>black-metal</td>\n",
       "      <td>0</td>\n",
       "    </tr>\n",
       "    <tr>\n",
       "      <th>2</th>\n",
       "      <td>Can't Look Away</td>\n",
       "      <td>False</td>\n",
       "      <td>23</td>\n",
       "      <td>The Wood Brothers</td>\n",
       "      <td>One Drop of Truth</td>\n",
       "      <td>0.523</td>\n",
       "      <td>0.585</td>\n",
       "      <td>5</td>\n",
       "      <td>-5.607</td>\n",
       "      <td>1.0</td>\n",
       "      <td>0.0765</td>\n",
       "      <td>0.066400</td>\n",
       "      <td>0.001270</td>\n",
       "      <td>0.117</td>\n",
       "      <td>0.385</td>\n",
       "      <td>140.880</td>\n",
       "      <td>4.0</td>\n",
       "      <td>619</td>\n",
       "      <td>1.279305</td>\n",
       "      <td>bluegrass</td>\n",
       "      <td>0</td>\n",
       "    </tr>\n",
       "    <tr>\n",
       "      <th>3</th>\n",
       "      <td>Thunderground</td>\n",
       "      <td>False</td>\n",
       "      <td>25</td>\n",
       "      <td>The Darkraver;DJ Vince</td>\n",
       "      <td>Happy Hardcore Top 100</td>\n",
       "      <td>0.643</td>\n",
       "      <td>0.687</td>\n",
       "      <td>7</td>\n",
       "      <td>-11.340</td>\n",
       "      <td>1.0</td>\n",
       "      <td>0.0539</td>\n",
       "      <td>0.000576</td>\n",
       "      <td>0.096900</td>\n",
       "      <td>0.299</td>\n",
       "      <td>0.637</td>\n",
       "      <td>143.956</td>\n",
       "      <td>4.0</td>\n",
       "      <td>733</td>\n",
       "      <td>4.067086</td>\n",
       "      <td>happy</td>\n",
       "      <td>0</td>\n",
       "    </tr>\n",
       "    <tr>\n",
       "      <th>4</th>\n",
       "      <td>Sick Bubblegum</td>\n",
       "      <td>True</td>\n",
       "      <td>32</td>\n",
       "      <td>Rob Zombie</td>\n",
       "      <td>Hellbilly Deluxe 2 (Standard Explicit)</td>\n",
       "      <td>0.642</td>\n",
       "      <td>0.972</td>\n",
       "      <td>5</td>\n",
       "      <td>-3.047</td>\n",
       "      <td>1.0</td>\n",
       "      <td>0.0967</td>\n",
       "      <td>0.001520</td>\n",
       "      <td>0.000024</td>\n",
       "      <td>0.384</td>\n",
       "      <td>0.421</td>\n",
       "      <td>118.035</td>\n",
       "      <td>4.0</td>\n",
       "      <td>432</td>\n",
       "      <td>1.279305</td>\n",
       "      <td>industrial</td>\n",
       "      <td>1</td>\n",
       "    </tr>\n",
       "  </tbody>\n",
       "</table>\n",
       "</div>"
      ],
      "text/plain": [
       "                 name  explicit  popularity                 artists  \\\n",
       "0           Long Road     False          46           Funki Porcini   \n",
       "1  Ondskapens Galakse     False           3               Kvelertak   \n",
       "2     Can't Look Away     False          23       The Wood Brothers   \n",
       "3       Thunderground     False          25  The Darkraver;DJ Vince   \n",
       "4      Sick Bubblegum      True          32              Rob Zombie   \n",
       "\n",
       "                               album_name  danceability  energy  key  \\\n",
       "0                           Hed Phone Sex         0.690   0.513    5   \n",
       "1                              Nattesferd         0.363   0.854    2   \n",
       "2                       One Drop of Truth         0.523   0.585    5   \n",
       "3                  Happy Hardcore Top 100         0.643   0.687    7   \n",
       "4  Hellbilly Deluxe 2 (Standard Explicit)         0.642   0.972    5   \n",
       "\n",
       "   loudness  mode  speechiness  acousticness  instrumentalness  liveness  \\\n",
       "0   -12.529   1.0       0.0975      0.302000          0.536000     0.281   \n",
       "1    -7.445   1.0       0.0397      0.000089          0.800000     0.262   \n",
       "2    -5.607   1.0       0.0765      0.066400          0.001270     0.117   \n",
       "3   -11.340   1.0       0.0539      0.000576          0.096900     0.299   \n",
       "4    -3.047   1.0       0.0967      0.001520          0.000024     0.384   \n",
       "\n",
       "   valence    tempo  time_signature  n_beats  processing        genre  \\\n",
       "0    0.635  142.221             4.0      567    1.279305      j-dance   \n",
       "1    0.489  116.628             4.0      652    3.700483  black-metal   \n",
       "2    0.385  140.880             4.0      619    1.279305    bluegrass   \n",
       "3    0.637  143.956             4.0      733    4.067086        happy   \n",
       "4    0.421  118.035             4.0      432    1.279305   industrial   \n",
       "\n",
       "   Explicit  \n",
       "0         0  \n",
       "1         0  \n",
       "2         0  \n",
       "3         0  \n",
       "4         1  "
      ]
     },
     "execution_count": 7,
     "metadata": {},
     "output_type": "execute_result"
    }
   ],
   "source": [
    "#show all the columns \n",
    "pd.set_option('display.max_columns', None)\n",
    "\n",
    "train.head()"
   ]
  },
  {
   "cell_type": "code",
   "execution_count": 8,
   "metadata": {},
   "outputs": [
    {
     "data": {
      "text/html": [
       "<div>\n",
       "<style scoped>\n",
       "    .dataframe tbody tr th:only-of-type {\n",
       "        vertical-align: middle;\n",
       "    }\n",
       "\n",
       "    .dataframe tbody tr th {\n",
       "        vertical-align: top;\n",
       "    }\n",
       "\n",
       "    .dataframe thead th {\n",
       "        text-align: right;\n",
       "    }\n",
       "</style>\n",
       "<table border=\"1\" class=\"dataframe\">\n",
       "  <thead>\n",
       "    <tr style=\"text-align: right;\">\n",
       "      <th></th>\n",
       "      <th>name</th>\n",
       "      <th>artists</th>\n",
       "      <th>album_name</th>\n",
       "      <th>genre</th>\n",
       "      <th>popularity</th>\n",
       "      <th>danceability</th>\n",
       "      <th>energy</th>\n",
       "      <th>key</th>\n",
       "      <th>loudness</th>\n",
       "      <th>mode</th>\n",
       "      <th>speechiness</th>\n",
       "      <th>acousticness</th>\n",
       "      <th>instrumentalness</th>\n",
       "      <th>liveness</th>\n",
       "      <th>valence</th>\n",
       "      <th>tempo</th>\n",
       "      <th>time_signature</th>\n",
       "      <th>n_beats</th>\n",
       "      <th>processing</th>\n",
       "      <th>explicit</th>\n",
       "    </tr>\n",
       "  </thead>\n",
       "  <tbody>\n",
       "    <tr>\n",
       "      <th>0</th>\n",
       "      <td>Untrue</td>\n",
       "      <td>Coal Chamber</td>\n",
       "      <td>Chamber Music</td>\n",
       "      <td>industrial</td>\n",
       "      <td>32</td>\n",
       "      <td>0.383</td>\n",
       "      <td>0.951</td>\n",
       "      <td>0</td>\n",
       "      <td>-3.743</td>\n",
       "      <td>1</td>\n",
       "      <td>0.1040</td>\n",
       "      <td>0.00607</td>\n",
       "      <td>0.000000</td>\n",
       "      <td>0.2610</td>\n",
       "      <td>0.668</td>\n",
       "      <td>110.584</td>\n",
       "      <td>4</td>\n",
       "      <td>385</td>\n",
       "      <td>3.349057</td>\n",
       "      <td>False</td>\n",
       "    </tr>\n",
       "    <tr>\n",
       "      <th>1</th>\n",
       "      <td>High Roller</td>\n",
       "      <td>The Crystal Method</td>\n",
       "      <td>Vegas</td>\n",
       "      <td>breakbeat</td>\n",
       "      <td>41</td>\n",
       "      <td>0.464</td>\n",
       "      <td>0.579</td>\n",
       "      <td>5</td>\n",
       "      <td>-9.136</td>\n",
       "      <td>1</td>\n",
       "      <td>0.0596</td>\n",
       "      <td>0.28100</td>\n",
       "      <td>0.827000</td>\n",
       "      <td>0.0992</td>\n",
       "      <td>0.140</td>\n",
       "      <td>171.752</td>\n",
       "      <td>4</td>\n",
       "      <td>935</td>\n",
       "      <td>1.279305</td>\n",
       "      <td>False</td>\n",
       "    </tr>\n",
       "    <tr>\n",
       "      <th>2</th>\n",
       "      <td>Na Tum Jano Na Hum (ReVibe)</td>\n",
       "      <td>Ashwin Adwani</td>\n",
       "      <td>Na Tum Jano Na Hum (ReVibe)</td>\n",
       "      <td>indian</td>\n",
       "      <td>40</td>\n",
       "      <td>0.611</td>\n",
       "      <td>0.778</td>\n",
       "      <td>9</td>\n",
       "      <td>-4.803</td>\n",
       "      <td>1</td>\n",
       "      <td>0.0326</td>\n",
       "      <td>0.09460</td>\n",
       "      <td>0.000005</td>\n",
       "      <td>0.1390</td>\n",
       "      <td>0.285</td>\n",
       "      <td>90.024</td>\n",
       "      <td>4</td>\n",
       "      <td>200</td>\n",
       "      <td>1.343558</td>\n",
       "      <td>False</td>\n",
       "    </tr>\n",
       "    <tr>\n",
       "      <th>3</th>\n",
       "      <td>いじわるなハロー</td>\n",
       "      <td>Perfume</td>\n",
       "      <td>Cling Cling</td>\n",
       "      <td>j-idol</td>\n",
       "      <td>25</td>\n",
       "      <td>0.500</td>\n",
       "      <td>0.958</td>\n",
       "      <td>0</td>\n",
       "      <td>-1.695</td>\n",
       "      <td>0</td>\n",
       "      <td>0.0350</td>\n",
       "      <td>0.00817</td>\n",
       "      <td>0.318000</td>\n",
       "      <td>0.7320</td>\n",
       "      <td>0.955</td>\n",
       "      <td>130.059</td>\n",
       "      <td>4</td>\n",
       "      <td>526</td>\n",
       "      <td>3.349057</td>\n",
       "      <td>False</td>\n",
       "    </tr>\n",
       "    <tr>\n",
       "      <th>4</th>\n",
       "      <td>Hit The Ceiling</td>\n",
       "      <td>Audio Bullys</td>\n",
       "      <td>Ego War</td>\n",
       "      <td>breakbeat</td>\n",
       "      <td>0</td>\n",
       "      <td>0.802</td>\n",
       "      <td>0.684</td>\n",
       "      <td>1</td>\n",
       "      <td>-8.839</td>\n",
       "      <td>1</td>\n",
       "      <td>0.1230</td>\n",
       "      <td>0.00181</td>\n",
       "      <td>0.010200</td>\n",
       "      <td>0.2360</td>\n",
       "      <td>0.637</td>\n",
       "      <td>130.022</td>\n",
       "      <td>4</td>\n",
       "      <td>440</td>\n",
       "      <td>2.367412</td>\n",
       "      <td>False</td>\n",
       "    </tr>\n",
       "  </tbody>\n",
       "</table>\n",
       "</div>"
      ],
      "text/plain": [
       "                          name             artists  \\\n",
       "0                       Untrue        Coal Chamber   \n",
       "1                  High Roller  The Crystal Method   \n",
       "2  Na Tum Jano Na Hum (ReVibe)       Ashwin Adwani   \n",
       "3                     いじわるなハロー             Perfume   \n",
       "4              Hit The Ceiling        Audio Bullys   \n",
       "\n",
       "                    album_name       genre  popularity  danceability  energy  \\\n",
       "0                Chamber Music  industrial          32         0.383   0.951   \n",
       "1                        Vegas   breakbeat          41         0.464   0.579   \n",
       "2  Na Tum Jano Na Hum (ReVibe)      indian          40         0.611   0.778   \n",
       "3                  Cling Cling      j-idol          25         0.500   0.958   \n",
       "4                      Ego War   breakbeat           0         0.802   0.684   \n",
       "\n",
       "   key  loudness  mode  speechiness  acousticness  instrumentalness  liveness  \\\n",
       "0    0    -3.743     1       0.1040       0.00607          0.000000    0.2610   \n",
       "1    5    -9.136     1       0.0596       0.28100          0.827000    0.0992   \n",
       "2    9    -4.803     1       0.0326       0.09460          0.000005    0.1390   \n",
       "3    0    -1.695     0       0.0350       0.00817          0.318000    0.7320   \n",
       "4    1    -8.839     1       0.1230       0.00181          0.010200    0.2360   \n",
       "\n",
       "   valence    tempo  time_signature  n_beats  processing  explicit  \n",
       "0    0.668  110.584               4      385    3.349057     False  \n",
       "1    0.140  171.752               4      935    1.279305     False  \n",
       "2    0.285   90.024               4      200    1.343558     False  \n",
       "3    0.955  130.059               4      526    3.349057     False  \n",
       "4    0.637  130.022               4      440    2.367412     False  "
      ]
     },
     "execution_count": 8,
     "metadata": {},
     "output_type": "execute_result"
    }
   ],
   "source": [
    "#show all the columns \n",
    "pd.set_option('display.max_columns', None)\n",
    "test.head()\n"
   ]
  },
  {
   "cell_type": "code",
   "execution_count": null,
   "metadata": {},
   "outputs": [],
   "source": [
    "#drop in test 'processing', 'popularity_confidence', and the convert duration_ms to duration_s and delete duration_ms\n",
    "test = test.drop(['processing', 'popularity_confidence'], axis=1)\n",
    "\n",
    "test['duration_s'] = test['duration_ms']/1000\n",
    "test = test.drop(['duration_ms'], axis=1)\n",
    "\n",
    "\n",
    "\n"
   ]
  },
  {
   "cell_type": "code",
   "execution_count": null,
   "metadata": {},
   "outputs": [],
   "source": [
    "test.shape"
   ]
  },
  {
   "cell_type": "code",
   "execution_count": 9,
   "metadata": {},
   "outputs": [],
   "source": [
    "drop_columns = ['name', 'artists', 'album_name', 'genre', 'time_signature', 'mode']"
   ]
  },
  {
   "cell_type": "code",
   "execution_count": 10,
   "metadata": {},
   "outputs": [],
   "source": [
    " #split train dataset into x-train and y-train\n",
    "X_train = train.drop(drop_columns, axis=1) \n",
    "\n",
    "X_test = test.drop(drop_columns, axis=1)"
   ]
  },
  {
   "cell_type": "code",
   "execution_count": null,
   "metadata": {},
   "outputs": [],
   "source": [
    "df = X_train.copy()\n",
    "X = df.values"
   ]
  },
  {
   "cell_type": "code",
   "execution_count": null,
   "metadata": {},
   "outputs": [],
   "source": [
    "df.head()\n"
   ]
  },
  {
   "cell_type": "markdown",
   "metadata": {},
   "source": [
    "SIMPLE REGRESSION "
   ]
  },
  {
   "cell_type": "code",
   "execution_count": 11,
   "metadata": {},
   "outputs": [],
   "source": [
    "from sklearn.metrics import r2_score, mean_squared_error, mean_absolute_error\n",
    "from sklearn.linear_model import LinearRegression, Ridge, Lasso"
   ]
  },
  {
   "cell_type": "code",
   "execution_count": 12,
   "metadata": {},
   "outputs": [],
   "source": [
    "x_train = train[\"energy\"].values.reshape(-1, 1)\n",
    "y_train = train[\"loudness\"].values\n",
    "\n",
    "x_test = test[\"energy\"].values.reshape(-1, 1)\n",
    "y_test = test[\"loudness\"].values"
   ]
  },
  {
   "cell_type": "markdown",
   "metadata": {},
   "source": [
    "LINEAR REGRESSION"
   ]
  },
  {
   "cell_type": "code",
   "execution_count": 13,
   "metadata": {},
   "outputs": [
    {
     "data": {
      "text/html": [
       "<style>#sk-container-id-1 {color: black;}#sk-container-id-1 pre{padding: 0;}#sk-container-id-1 div.sk-toggleable {background-color: white;}#sk-container-id-1 label.sk-toggleable__label {cursor: pointer;display: block;width: 100%;margin-bottom: 0;padding: 0.3em;box-sizing: border-box;text-align: center;}#sk-container-id-1 label.sk-toggleable__label-arrow:before {content: \"▸\";float: left;margin-right: 0.25em;color: #696969;}#sk-container-id-1 label.sk-toggleable__label-arrow:hover:before {color: black;}#sk-container-id-1 div.sk-estimator:hover label.sk-toggleable__label-arrow:before {color: black;}#sk-container-id-1 div.sk-toggleable__content {max-height: 0;max-width: 0;overflow: hidden;text-align: left;background-color: #f0f8ff;}#sk-container-id-1 div.sk-toggleable__content pre {margin: 0.2em;color: black;border-radius: 0.25em;background-color: #f0f8ff;}#sk-container-id-1 input.sk-toggleable__control:checked~div.sk-toggleable__content {max-height: 200px;max-width: 100%;overflow: auto;}#sk-container-id-1 input.sk-toggleable__control:checked~label.sk-toggleable__label-arrow:before {content: \"▾\";}#sk-container-id-1 div.sk-estimator input.sk-toggleable__control:checked~label.sk-toggleable__label {background-color: #d4ebff;}#sk-container-id-1 div.sk-label input.sk-toggleable__control:checked~label.sk-toggleable__label {background-color: #d4ebff;}#sk-container-id-1 input.sk-hidden--visually {border: 0;clip: rect(1px 1px 1px 1px);clip: rect(1px, 1px, 1px, 1px);height: 1px;margin: -1px;overflow: hidden;padding: 0;position: absolute;width: 1px;}#sk-container-id-1 div.sk-estimator {font-family: monospace;background-color: #f0f8ff;border: 1px dotted black;border-radius: 0.25em;box-sizing: border-box;margin-bottom: 0.5em;}#sk-container-id-1 div.sk-estimator:hover {background-color: #d4ebff;}#sk-container-id-1 div.sk-parallel-item::after {content: \"\";width: 100%;border-bottom: 1px solid gray;flex-grow: 1;}#sk-container-id-1 div.sk-label:hover label.sk-toggleable__label {background-color: #d4ebff;}#sk-container-id-1 div.sk-serial::before {content: \"\";position: absolute;border-left: 1px solid gray;box-sizing: border-box;top: 0;bottom: 0;left: 50%;z-index: 0;}#sk-container-id-1 div.sk-serial {display: flex;flex-direction: column;align-items: center;background-color: white;padding-right: 0.2em;padding-left: 0.2em;position: relative;}#sk-container-id-1 div.sk-item {position: relative;z-index: 1;}#sk-container-id-1 div.sk-parallel {display: flex;align-items: stretch;justify-content: center;background-color: white;position: relative;}#sk-container-id-1 div.sk-item::before, #sk-container-id-1 div.sk-parallel-item::before {content: \"\";position: absolute;border-left: 1px solid gray;box-sizing: border-box;top: 0;bottom: 0;left: 50%;z-index: -1;}#sk-container-id-1 div.sk-parallel-item {display: flex;flex-direction: column;z-index: 1;position: relative;background-color: white;}#sk-container-id-1 div.sk-parallel-item:first-child::after {align-self: flex-end;width: 50%;}#sk-container-id-1 div.sk-parallel-item:last-child::after {align-self: flex-start;width: 50%;}#sk-container-id-1 div.sk-parallel-item:only-child::after {width: 0;}#sk-container-id-1 div.sk-dashed-wrapped {border: 1px dashed gray;margin: 0 0.4em 0.5em 0.4em;box-sizing: border-box;padding-bottom: 0.4em;background-color: white;}#sk-container-id-1 div.sk-label label {font-family: monospace;font-weight: bold;display: inline-block;line-height: 1.2em;}#sk-container-id-1 div.sk-label-container {text-align: center;}#sk-container-id-1 div.sk-container {/* jupyter's `normalize.less` sets `[hidden] { display: none; }` but bootstrap.min.css set `[hidden] { display: none !important; }` so we also need the `!important` here to be able to override the default hidden behavior on the sphinx rendered scikit-learn.org. See: https://github.com/scikit-learn/scikit-learn/issues/21755 */display: inline-block !important;position: relative;}#sk-container-id-1 div.sk-text-repr-fallback {display: none;}</style><div id=\"sk-container-id-1\" class=\"sk-top-container\"><div class=\"sk-text-repr-fallback\"><pre>LinearRegression()</pre><b>In a Jupyter environment, please rerun this cell to show the HTML representation or trust the notebook. <br />On GitHub, the HTML representation is unable to render, please try loading this page with nbviewer.org.</b></div><div class=\"sk-container\" hidden><div class=\"sk-item\"><div class=\"sk-estimator sk-toggleable\"><input class=\"sk-toggleable__control sk-hidden--visually\" id=\"sk-estimator-id-1\" type=\"checkbox\" checked><label for=\"sk-estimator-id-1\" class=\"sk-toggleable__label sk-toggleable__label-arrow\">LinearRegression</label><div class=\"sk-toggleable__content\"><pre>LinearRegression()</pre></div></div></div></div></div>"
      ],
      "text/plain": [
       "LinearRegression()"
      ]
     },
     "execution_count": 13,
     "metadata": {},
     "output_type": "execute_result"
    }
   ],
   "source": [
    "reg = LinearRegression()\n",
    "reg.fit(x_train, y_train)"
   ]
  },
  {
   "cell_type": "code",
   "execution_count": 14,
   "metadata": {},
   "outputs": [
    {
     "name": "stdout",
     "output_type": "stream",
     "text": [
      "Coefficients: \n",
      " [11.20214541]\n",
      "Intercept: \n",
      " -15.176573050197531\n"
     ]
    }
   ],
   "source": [
    "print('Coefficients: \\n', reg.coef_)\n",
    "print('Intercept: \\n', reg.intercept_)"
   ]
  },
  {
   "cell_type": "code",
   "execution_count": 15,
   "metadata": {},
   "outputs": [
    {
     "data": {
      "text/plain": [
       "[<matplotlib.lines.Line2D at 0x148693df0>]"
      ]
     },
     "execution_count": 15,
     "metadata": {},
     "output_type": "execute_result"
    },
    {
     "data": {
      "image/png": "[encoded data removed]",
      "text/plain": [
       "<Figure size 640x480 with 1 Axes>"
      ]
     },
     "metadata": {},
     "output_type": "display_data"
    }
   ],
   "source": [
    "sns.scatterplot(data=train, x=\"energy\", y=\"loudness\")\n",
    "plt.plot(x_train, reg.coef_[0]*x_train+reg.intercept_, c=\"red\")"
   ]
  },
  {
   "cell_type": "code",
   "execution_count": null,
   "metadata": {},
   "outputs": [],
   "source": [
    "y_pred = reg.predict(X_test)\n",
    "\n",
    "print('R2: %.3f' % r2_score(y_test, y_pred))\n",
    "print('MSE: %.3f' % mean_squared_error(y_test, y_pred))\n",
    "print('MAE: %.3f' % mean_absolute_error(y_test, y_pred))"
   ]
  },
  {
   "cell_type": "code",
   "execution_count": null,
   "metadata": {},
   "outputs": [],
   "source": [
    "sns.scatterplot(data=test, x=\"energy\", y=\"loudness\")\n",
    "plt.plot(x_test, reg.coef_[0]*x_test+reg.intercept_, c=\"red\")"
   ]
  },
  {
   "cell_type": "markdown",
   "metadata": {},
   "source": [
    "RIDGE"
   ]
  },
  {
   "cell_type": "code",
   "execution_count": null,
   "metadata": {},
   "outputs": [],
   "source": [
    "reg = Ridge()\n",
    "reg.fit(x_train, y_train)\n",
    "print('Coefficients: \\n', reg.coef_)\n",
    "print('Intercept: \\n', reg.intercept_)"
   ]
  },
  {
   "cell_type": "code",
   "execution_count": null,
   "metadata": {},
   "outputs": [],
   "source": [
    "sns.scatterplot(data=train, x=\"energy\", y=\"loudness\")\n",
    "plt.plot(x_train, reg.coef_[0]*x_train+reg.intercept_, c=\"red\")"
   ]
  },
  {
   "cell_type": "markdown",
   "metadata": {},
   "source": [
    "LASSO"
   ]
  },
  {
   "cell_type": "code",
   "execution_count": null,
   "metadata": {},
   "outputs": [],
   "source": [
    "reg = Lasso()\n",
    "reg.fit(x_train, y_train)\n",
    "print('Coefficients: \\n', reg.coef_)\n",
    "print('Intercept: \\n', reg.intercept_)"
   ]
  },
  {
   "cell_type": "code",
   "execution_count": null,
   "metadata": {},
   "outputs": [],
   "source": [
    "sns.scatterplot(data=train, x=\"energy\", y=\"loudness\")\n",
    "plt.plot(x_train, reg.coef_[0]*x_train+reg.intercept_, c=\"red\")"
   ]
  },
  {
   "cell_type": "markdown",
   "metadata": {},
   "source": [
    "NON LINEAR REGRESSION \n"
   ]
  },
  {
   "cell_type": "markdown",
   "metadata": {},
   "source": [
    "Decision Tree Regressor"
   ]
  },
  {
   "cell_type": "code",
   "execution_count": null,
   "metadata": {},
   "outputs": [],
   "source": [
    "from sklearn.tree import DecisionTreeRegressor"
   ]
  },
  {
   "cell_type": "code",
   "execution_count": null,
   "metadata": {},
   "outputs": [],
   "source": [
    "reg = DecisionTreeRegressor()"
   ]
  },
  {
   "cell_type": "code",
   "execution_count": null,
   "metadata": {},
   "outputs": [],
   "source": [
    "reg.fit(x_train, y_train)"
   ]
  },
  {
   "cell_type": "code",
   "execution_count": null,
   "metadata": {},
   "outputs": [],
   "source": [
    "y_pred = reg.predict(x_test)\n",
    "print('R2: %.3f' % r2_score(y_test, y_pred))\n",
    "print('MSE: %.3f' % mean_squared_error(y_test, y_pred))\n",
    "print('MAE: %.3f' % mean_absolute_error(y_test, y_pred))"
   ]
  },
  {
   "cell_type": "code",
   "execution_count": null,
   "metadata": {},
   "outputs": [],
   "source": [
    "sns.scatterplot(data=train, x=\"energy\", y=\"loudness\", label=\"True\")\n",
    "sns.scatterplot(data=train, x=\"energy\", y=reg.predict(x_train), label=\"Predicted\", marker=\"X\")\n",
    "plt.legend()\n",
    "plt.show()"
   ]
  },
  {
   "cell_type": "markdown",
   "metadata": {},
   "source": [
    "KNN REGRESSOR"
   ]
  },
  {
   "cell_type": "code",
   "execution_count": null,
   "metadata": {},
   "outputs": [],
   "source": [
    "from sklearn.neighbors import KNeighborsRegressor"
   ]
  },
  {
   "cell_type": "code",
   "execution_count": null,
   "metadata": {},
   "outputs": [],
   "source": [
    "reg = KNeighborsRegressor()"
   ]
  },
  {
   "cell_type": "code",
   "execution_count": null,
   "metadata": {},
   "outputs": [],
   "source": [
    "reg.fit(x_train, y_train)"
   ]
  },
  {
   "cell_type": "code",
   "execution_count": null,
   "metadata": {},
   "outputs": [],
   "source": [
    "y_pred = reg.predict(x_test)\n",
    "print('R2: %.3f' % r2_score(y_test, y_pred))\n",
    "print('MSE: %.3f' % mean_squared_error(y_test, y_pred))\n",
    "print('MAE: %.3f' % mean_absolute_error(y_test, y_pred))"
   ]
  },
  {
   "cell_type": "code",
   "execution_count": null,
   "metadata": {},
   "outputs": [],
   "source": [
    "sns.scatterplot(data=train, x=\"energy\", y=\"loudness\", label=\"True\")\n",
    "sns.scatterplot(data=train, x=\"energy\", y=reg.predict(x_train), label=\"Predicted\", marker=\"X\")\n",
    "plt.legend()\n",
    "plt.show()"
   ]
  },
  {
   "cell_type": "markdown",
   "metadata": {},
   "source": [
    "MULTIPLE REGRESSION"
   ]
  },
  {
   "cell_type": "code",
   "execution_count": null,
   "metadata": {},
   "outputs": [],
   "source": [
    "X_train = train[[\"loudness\", \"acousticness\"]].values\n",
    "y_train = train[\"energy\"].values\n",
    "\n",
    "X_test = test[[\"loudness\", \"acousticness\"]].values\n",
    "y_test = test[\"energy\"].values\n"
   ]
  },
  {
   "cell_type": "markdown",
   "metadata": {},
   "source": [
    "LINEAR REGRESSION "
   ]
  },
  {
   "cell_type": "code",
   "execution_count": null,
   "metadata": {},
   "outputs": [],
   "source": [
    "reg = LinearRegression()\n",
    "reg.fit(X_train, y_train)"
   ]
  },
  {
   "cell_type": "code",
   "execution_count": null,
   "metadata": {},
   "outputs": [],
   "source": [
    "y_pred = reg.predict(X_test)\n",
    "print('R2: %.3f' % r2_score(y_test, y_pred))\n",
    "print('MSE: %.3f' % mean_squared_error(y_test, y_pred))\n",
    "print('MAE: %.3f' % mean_absolute_error(y_test, y_pred))"
   ]
  },
  {
   "cell_type": "code",
   "execution_count": null,
   "metadata": {},
   "outputs": [],
   "source": [
    "sns.scatterplot(data=test, x=\"acousticness\", y=\"energy\", label=\"True\")\n",
    "sns.scatterplot(data=test, x=\"acousticness\", y=reg.predict(X_test), label=\"Predicted\", marker=\"X\")\n",
    "plt.legend()\n",
    "plt.show()"
   ]
  },
  {
   "cell_type": "markdown",
   "metadata": {},
   "source": [
    "NONLINEAR REGRESSION"
   ]
  },
  {
   "cell_type": "code",
   "execution_count": null,
   "metadata": {},
   "outputs": [],
   "source": [
    "reg = DecisionTreeRegressor()"
   ]
  },
  {
   "cell_type": "code",
   "execution_count": null,
   "metadata": {},
   "outputs": [],
   "source": [
    "reg.fit(X_train, y_train)"
   ]
  },
  {
   "cell_type": "code",
   "execution_count": null,
   "metadata": {},
   "outputs": [],
   "source": [
    "y_pred = reg.predict(X_test)\n",
    "print('R2: %.3f' % r2_score(y_test, y_pred))\n",
    "print('MSE: %.3f' % mean_squared_error(y_test, y_pred))\n",
    "print('MAE: %.3f' % mean_absolute_error(y_test, y_pred))"
   ]
  },
  {
   "cell_type": "code",
   "execution_count": null,
   "metadata": {},
   "outputs": [],
   "source": [
    "sns.scatterplot(data=test, x=\"acousticness\", y=\"energy\", label=\"True\")\n",
    "sns.scatterplot(data=test, x=\"acousticness\", y=reg.predict(X_test), label=\"Predicted\", marker=\"X\")\n",
    "plt.legend()\n",
    "plt.show()"
   ]
  },
  {
   "cell_type": "markdown",
   "metadata": {},
   "source": [
    "# Multivariate Regression (2+ target variables)"
   ]
  },
  {
   "cell_type": "code",
   "execution_count": null,
   "metadata": {},
   "outputs": [],
   "source": [
    "'''#use label encoder to encode genre column\n",
    "from sklearn.preprocessing import LabelEncoder\n",
    "le = LabelEncoder()\n",
    "train_sample['genre'] = le.fit_transform(train_sample['genre'])\n",
    "train_sample.head()\n",
    "test_sample['genre'] = le.fit_transform(test_sample['genre'])\n",
    "test_sample.head(5000)'''"
   ]
  },
  {
   "cell_type": "code",
   "execution_count": null,
   "metadata": {},
   "outputs": [],
   "source": [
    "X_train = train[[\"danceability\",\"valence\",\"loudness\", \"acousticness\"]].values\n",
    "y_train = train[[\"duration_s\",\"energy\"]].values\n",
    "\n",
    "X_test = test[[\"danceability\",\"valence\",\"loudness\", \"acousticness\"]].values\n",
    "y_test = test[[\"duration_s\",\"energy\"]].values\n"
   ]
  },
  {
   "cell_type": "code",
   "execution_count": null,
   "metadata": {},
   "outputs": [],
   "source": [
    "reg = DecisionTreeRegressor()"
   ]
  },
  {
   "cell_type": "code",
   "execution_count": null,
   "metadata": {},
   "outputs": [],
   "source": [
    "reg.fit(X_train, y_train)"
   ]
  },
  {
   "cell_type": "code",
   "execution_count": null,
   "metadata": {},
   "outputs": [],
   "source": [
    "y_pred = reg.predict(X_test)\n",
    "print('R2: %.3f' % r2_score(y_test, y_pred))\n",
    "print('MSE: %.3f' % mean_squared_error(y_test, y_pred))\n",
    "print('MAE: %.3f' % mean_absolute_error(y_test, y_pred))"
   ]
  },
  {
   "cell_type": "code",
   "execution_count": null,
   "metadata": {},
   "outputs": [],
   "source": [
    "y_pred = reg.predict(X_test)\n",
    "y_pred"
   ]
  },
  {
   "cell_type": "code",
   "execution_count": null,
   "metadata": {},
   "outputs": [],
   "source": [
    "sns.scatterplot(data=df_test, x=\"hue\", y=\"od280/od315_of_diluted_wines\", label=\"True\")\n",
    "sns.scatterplot(data=df_test, x=\"hue\", y=reg.predict(X_test)[:, 0], label=\"Predicted\", marker=\"X\")\n",
    "plt.legend()\n",
    "plt.show()"
   ]
  },
  {
   "cell_type": "code",
   "execution_count": null,
   "metadata": {},
   "outputs": [],
   "source": [
    "sns.scatterplot(data=test, x=\"loudness\", y=\"energy\", label=\"True\")\n",
    "sns.scatterplot(data=test, x=\"loudness\", y=reg.predict(X_test)[:, 0], label=\"Predicted\", marker=\"X\")\n",
    "plt.legend()\n",
    "plt.show()"
   ]
  },
  {
   "cell_type": "code",
   "execution_count": null,
   "metadata": {},
   "outputs": [],
   "source": [
    "sns.scatterplot(data=test_sample, x=\"instrumentalness\", y=\"genre\", label=\"True\")\n",
    "sns.scatterplot(data=test_sample, x=\"instrumentalness\", y=reg.predict(X_test)[:, 0], label=\"Predicted\", marker=\"X\")\n",
    "plt.legend()\n",
    "plt.show()"
   ]
  }
 ],
 "metadata": {
  "kernelspec": {
   "display_name": "Python 3 (ipykernel)",
   "language": "python",
   "name": "python3"
  },
  "language_info": {
   "codemirror_mode": {
    "name": "ipython",
    "version": 3
   },
   "file_extension": ".py",
   "mimetype": "text/x-python",
   "name": "python",
   "nbconvert_exporter": "python",
   "pygments_lexer": "ipython3",
   "version": "3.10.13"
  }
 },
 "nbformat": 4,
 "nbformat_minor": 2
}
